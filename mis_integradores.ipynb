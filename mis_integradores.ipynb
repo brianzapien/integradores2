{
 "cells": [
  {
   "cell_type": "code",
   "execution_count": 1,
   "metadata": {
    "collapsed": true
   },
   "outputs": [],
   "source": [
    "def integra2(ec,d_ec,p_ini,x,h=0.1):\n",
    "    #f=ec(p_ini)\n",
    "    #df=d_ec(p_ini)[0]\n",
    "    #jac=d_ec(p_ini)[1]\n",
    "    tiempos = arange(x[0],x[1]+h,h)\n",
    "    sol = zeros((len(tiempos),len(p_ini)))\n",
    "    sol[0,:]=p_ini\n",
    "    for t in xrange(len(tiempos)-1):\n",
    "        f=ec(sol[t,:],tiempos[t])\n",
    "        df=d_ec(sol[t,:],tiempos[t])[0]\n",
    "        jac=d_ec(sol[t,:],tiempos[t])[1]\n",
    "        sol[t+1,:] = sol[t,:] + (h*f) + (0.5*h*h)*(df+dot(jac,f))\n",
    "    return tiempos,sol"
   ]
  },
  {
   "cell_type": "code",
   "execution_count": 2,
   "metadata": {
    "collapsed": true
   },
   "outputs": [],
   "source": [
    "def RK2(funcion,p_ini,x,h=0.1):\n",
    "    tiempos=arange(x[0],x[1]+h,h)\n",
    "    sol = zeros((len(tiempos),len(p_ini)))\n",
    "    sol[0,:]=p_ini\n",
    "    for i in xrange(len(tiempos)-1):\n",
    "        t=tiempos[i]\n",
    "        y_n=sol[i,:]\n",
    "        k_1=h*funcion(y_n,t)\n",
    "        sol[i+1,:]= y_n + h*funcion(y_n+k_1,t+0.5*h)\n",
    "    return sol,tiempos"
   ]
  },
  {
   "cell_type": "code",
   "execution_count": 5,
   "metadata": {
    "collapsed": true
   },
   "outputs": [],
   "source": [
    "def RK4(funcion,p_ini,x,h=0.1):\n",
    "    tiempos=arange(x[0],x[1]+h,h)\n",
    "    sol = zeros((len(tiempos),len(p_ini)))\n",
    "    sol[0,:]=p_ini\n",
    "    for i in xrange(len(tiempos)-1):\n",
    "        t=tiempos[i]\n",
    "        y_n=sol[i,:]\n",
    "        k_1=funcion(y_n,t)\n",
    "        k_2=funcion(y_n + 0.5*h*k_1,t+0.5*h)\n",
    "        k_3=funcion(y_n + 0.5*h*k_2,t+0.5*h)\n",
    "        k_4=funcion(y_n + k_3*h,t+h)\n",
    "        sol[i+1,:]= y_n + (h/6)*(k_1+2*k_2+2*k_3+k_4)\n",
    "    return sol,tiempos"
   ]
  },
  {
   "cell_type": "code",
   "execution_count": null,
   "metadata": {
    "collapsed": true
   },
   "outputs": [],
   "source": []
  }
 ],
 "metadata": {
  "kernelspec": {
   "display_name": "Python [Root]",
   "language": "python",
   "name": "Python [Root]"
  },
  "language_info": {
   "codemirror_mode": {
    "name": "ipython",
    "version": 2
   },
   "file_extension": ".py",
   "mimetype": "text/x-python",
   "name": "python",
   "nbconvert_exporter": "python",
   "pygments_lexer": "ipython2",
   "version": "2.7.12"
  }
 },
 "nbformat": 4,
 "nbformat_minor": 0
}
