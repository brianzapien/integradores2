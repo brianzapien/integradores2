{
 "cells": [
  {
   "cell_type": "code",
   "execution_count": 1,
   "metadata": {
    "collapsed": true
   },
   "outputs": [],
   "source": [
    "from pylab import *\n",
    "%matplotlib inline"
   ]
  },
  {
   "cell_type": "code",
   "execution_count": 2,
   "metadata": {
    "collapsed": false
   },
   "outputs": [],
   "source": [
    "def raiz_bip(f,x_i,x_d,error=1e-8):\n",
    "    raiz = 0.5*(x_i+x_d)\n",
    "    y_i,y_d = f(x_i),f(x_d)\n",
    "    n = 0\n",
    "    while abs(y_d)>=error:\n",
    "        y_m = f(raiz)\n",
    "        if y_m == 0:\n",
    "            print \"le atine :D\"\n",
    "            break\n",
    "        if y_m*y_i < 0:\n",
    "            x_d = raiz\n",
    "        else:\n",
    "            x_i = raiz\n",
    "        raiz = 0.5*(x_i+x_d)\n",
    "        y_i,y_d = f(x_i),f(x_d)\n",
    "        n += 1\n",
    "        print 'paso', n, \"  raiz \",raiz\n",
    "    return raiz"
   ]
  },
  {
   "cell_type": "code",
   "execution_count": 3,
   "metadata": {
    "collapsed": true
   },
   "outputs": [],
   "source": [
    "def m_newton(funcion,d_funcion,x_0,error=1e-8):\n",
    "    xn=x_0\n",
    "    yn=funcion(xn)\n",
    "    n=0\n",
    "    while abs(yn)>=error:\n",
    "        print n,'\\t',xn\n",
    "        xn = xn - (funcion(xn))/(d_funcion(xn))\n",
    "        yn=funcion(xn)\n",
    "        n += 1\n",
    "    return xn\n",
    "        "
   ]
  },
  {
   "cell_type": "code",
   "execution_count": 4,
   "metadata": {
    "collapsed": false
   },
   "outputs": [
    {
     "data": {
      "image/png": "[encoded data removed]",
      "text/plain": [
       "<matplotlib.figure.Figure at 0x7f136d4bb510>"
      ]
     },
     "metadata": {},
     "output_type": "display_data"
    }
   ],
   "source": [
    "x=linspace(0,8)\n",
    "plot(x,sin(x))\n",
    "grid(True)\n",
    "show()"
   ]
  },
  {
   "cell_type": "code",
   "execution_count": 5,
   "metadata": {
    "collapsed": false
   },
   "outputs": [
    {
     "name": "stdout",
     "output_type": "stream",
     "text": [
      "paso 1   raiz  3.5\n",
      "paso 2   raiz  3.25\n",
      "paso 3   raiz  3.125\n",
      "paso 4   raiz  3.1875\n",
      "paso 5   raiz  3.15625\n",
      "paso 6   raiz  3.140625\n",
      "paso 7   raiz  3.1484375\n",
      "paso 8   raiz  3.14453125\n",
      "paso 9   raiz  3.142578125\n",
      "paso 10   raiz  3.1416015625\n",
      "paso 11   raiz  3.14111328125\n",
      "paso 12   raiz  3.14135742188\n",
      "paso 13   raiz  3.14147949219\n",
      "paso 14   raiz  3.14154052734\n",
      "paso 15   raiz  3.14157104492\n",
      "paso 16   raiz  3.14158630371\n",
      "paso 17   raiz  3.14159393311\n",
      "paso 18   raiz  3.14159011841\n",
      "paso 19   raiz  3.14159202576\n",
      "paso 20   raiz  3.14159297943\n",
      "paso 21   raiz  3.14159250259\n",
      "paso 22   raiz  3.14159274101\n",
      "paso 23   raiz  3.1415926218\n",
      "paso 24   raiz  3.14159268141\n",
      "paso 25   raiz  3.14159265161\n",
      "paso 26   raiz  3.14159266651\n",
      "paso 27   raiz  3.14159265906\n",
      "paso 28   raiz  3.14159265533\n",
      "3.14159265533\n"
     ]
    }
   ],
   "source": [
    "print raiz_bip(sin,2,4)\n"
   ]
  },
  {
   "cell_type": "code",
   "execution_count": 6,
   "metadata": {
    "collapsed": false
   },
   "outputs": [
    {
     "name": "stdout",
     "output_type": "stream",
     "text": [
      "0 \t2\n",
      "1 \t4.18503986326\n",
      "2 \t2.46789367451\n",
      "3 \t3.26618627757\n",
      "4 \t3.14094391232\n",
      "3.14159265368\n"
     ]
    }
   ],
   "source": [
    "print m_newton(sin,cos,2)"
   ]
  },
  {
   "cell_type": "code",
   "execution_count": 7,
   "metadata": {
    "collapsed": true
   },
   "outputs": [],
   "source": [
    "def funcion(x):\n",
    "    return (x-1)**5"
   ]
  },
  {
   "cell_type": "code",
   "execution_count": 8,
   "metadata": {
    "collapsed": false
   },
   "outputs": [
    {
     "data": {
      "image/png": "[encoded data removed]",
      "text/plain": [
       "<matplotlib.figure.Figure at 0x7f136afc6e50>"
      ]
     },
     "metadata": {},
     "output_type": "display_data"
    }
   ],
   "source": [
    "x=linspace(0,2)\n",
    "plot(x,funcion(x))\n",
    "show()"
   ]
  },
  {
   "cell_type": "code",
   "execution_count": 9,
   "metadata": {
    "collapsed": false
   },
   "outputs": [
    {
     "name": "stdout",
     "output_type": "stream",
     "text": [
      "paso 1   raiz  1.075\n",
      "paso 2   raiz  0.8625\n",
      "paso 3   raiz  0.96875\n",
      "paso 4   raiz  1.021875\n",
      "paso 5   raiz  0.9953125\n",
      "paso 6   raiz  1.00859375\n",
      "paso 7   raiz  1.001953125\n"
     ]
    },
    {
     "data": {
      "text/plain": [
       "1.001953125"
      ]
     },
     "execution_count": 9,
     "metadata": {},
     "output_type": "execute_result"
    }
   ],
   "source": [
    "raiz_bip(funcion,-.2,1.5,1e-10)"
   ]
  },
  {
   "cell_type": "code",
   "execution_count": 10,
   "metadata": {
    "collapsed": false
   },
   "outputs": [],
   "source": [
    "def f(x):\n",
    "    return (x-1)**4\n",
    "\n",
    "def d_f(x):\n",
    "    return 4*(x-1)**3"
   ]
  },
  {
   "cell_type": "code",
   "execution_count": 11,
   "metadata": {
    "collapsed": false
   },
   "outputs": [
    {
     "name": "stdout",
     "output_type": "stream",
     "text": [
      "0 \t1.1\n",
      "1 \t1.075\n",
      "2 \t1.05625\n",
      "3 \t1.0421875\n",
      "4 \t1.031640625\n",
      "5 \t1.02373046875\n",
      "6 \t1.01779785156\n",
      "7 \t1.01334838867\n",
      "8 \t1.0100112915\n"
     ]
    },
    {
     "data": {
      "text/plain": [
       "1.0075084686279299"
      ]
     },
     "execution_count": 11,
     "metadata": {},
     "output_type": "execute_result"
    }
   ],
   "source": [
    "m_newton(f,d_f,1.1)"
   ]
  },
  {
   "cell_type": "code",
   "execution_count": 12,
   "metadata": {
    "collapsed": false
   },
   "outputs": [
    {
     "data": {
      "image/png": "[encoded data removed]",
      "text/plain": [
       "<matplotlib.figure.Figure at 0x7f136afc6910>"
      ]
     },
     "metadata": {},
     "output_type": "display_data"
    }
   ],
   "source": [
    "x=linspace(-3,0,100)\n",
    "y=(tan(sqrt(pi-8*x)))**3 + x**2\n",
    "plot(x,y)\n",
    "plot([-2.94267812781],[0],'o')\n",
    "plot([-0.45649040062],[0],'o')\n",
    "plot([-2.94267812758],[0],'x',markersize=20)\n",
    "plot([-0.456490400596],[0],'x',markersize=20)\n",
    "ylim(-30,30)\n",
    "grid(True)"
   ]
  },
  {
   "cell_type": "code",
   "execution_count": 13,
   "metadata": {
    "collapsed": true
   },
   "outputs": [],
   "source": [
    "def f(x):\n",
    "    return x**2 + tan(sqrt(-8*x + pi))**3\n",
    "\n",
    "def d_f(x):\n",
    "    return 2*x - 12*(tan(sqrt(-8*x + pi))**2 + 1)*tan(sqrt(-8*x + pi))**2/sqrt(-8*x + pi)"
   ]
  },
  {
   "cell_type": "code",
   "execution_count": 14,
   "metadata": {
    "collapsed": false
   },
   "outputs": [
    {
     "name": "stdout",
     "output_type": "stream",
     "text": [
      "paso 1   raiz  -2.95\n",
      "paso 2   raiz  -2.925\n",
      "paso 3   raiz  -2.9375\n",
      "paso 4   raiz  -2.94375\n",
      "paso 5   raiz  -2.940625\n",
      "paso 6   raiz  -2.9421875\n",
      "paso 7   raiz  -2.94296875\n",
      "paso 8   raiz  -2.942578125\n",
      "paso 9   raiz  -2.9427734375\n",
      "paso 10   raiz  -2.94267578125\n",
      "paso 11   raiz  -2.94272460938\n",
      "paso 12   raiz  -2.94270019531\n",
      "paso 13   raiz  -2.94268798828\n",
      "paso 14   raiz  -2.94268188477\n",
      "paso 15   raiz  -2.94267883301\n",
      "paso 16   raiz  -2.94267730713\n",
      "paso 17   raiz  -2.94267807007\n",
      "paso 18   raiz  -2.94267845154\n",
      "paso 19   raiz  -2.9426782608\n",
      "paso 20   raiz  -2.94267816544\n",
      "paso 21   raiz  -2.94267811775\n",
      "paso 22   raiz  -2.94267814159\n",
      "paso 23   raiz  -2.94267812967\n",
      "paso 24   raiz  -2.94267812371\n",
      "paso 25   raiz  -2.94267812669\n",
      "paso 26   raiz  -2.94267812818\n",
      "paso 27   raiz  -2.94267812744\n",
      "paso 28   raiz  -2.94267812781\n",
      "-2.94267812781\n",
      "paso 1   raiz  -0.55\n",
      "paso 2   raiz  -0.375\n",
      "paso 3   raiz  -0.4625\n",
      "paso 4   raiz  -0.41875\n",
      "paso 5   raiz  -0.440625\n",
      "paso 6   raiz  -0.4515625\n",
      "paso 7   raiz  -0.45703125\n",
      "paso 8   raiz  -0.454296875\n",
      "paso 9   raiz  -0.4556640625\n",
      "paso 10   raiz  -0.45634765625\n",
      "paso 11   raiz  -0.456689453125\n",
      "paso 12   raiz  -0.456518554688\n",
      "paso 13   raiz  -0.456433105469\n",
      "paso 14   raiz  -0.456475830078\n",
      "paso 15   raiz  -0.456497192383\n",
      "paso 16   raiz  -0.45648651123\n",
      "paso 17   raiz  -0.456491851807\n",
      "paso 18   raiz  -0.456489181519\n",
      "paso 19   raiz  -0.456490516663\n",
      "paso 20   raiz  -0.456489849091\n",
      "paso 21   raiz  -0.456490182877\n",
      "paso 22   raiz  -0.45649034977\n",
      "paso 23   raiz  -0.456490433216\n",
      "paso 24   raiz  -0.456490391493\n",
      "paso 25   raiz  -0.456490412354\n",
      "paso 26   raiz  -0.456490401924\n",
      "paso 27   raiz  -0.456490396708\n",
      "paso 28   raiz  -0.456490399316\n",
      "paso 29   raiz  -0.45649040062\n",
      "-0.45649040062\n"
     ]
    }
   ],
   "source": [
    "print raiz_bip(f,-3,-2.8)\n",
    "print raiz_bip(f,-1.6,-0.2)"
   ]
  },
  {
   "cell_type": "code",
   "execution_count": 15,
   "metadata": {
    "collapsed": false
   },
   "outputs": [
    {
     "name": "stdout",
     "output_type": "stream",
     "text": [
      "0 \t-3\n",
      "1 \t-2.9318062049\n",
      "2 \t-2.94229732506\n",
      "3 \t-2.94267765788\n",
      "-2.94267812758\n",
      "0 \t-1\n",
      "1 \t-0.530746877804\n",
      "2 \t-0.442008460789\n",
      "3 \t-0.455854364862\n",
      "4 \t-0.456489188197\n",
      "-0.456490400596\n"
     ]
    }
   ],
   "source": [
    "print m_newton(f,d_f,-3)\n",
    "print m_newton(f,d_f,-1)"
   ]
  },
  {
   "cell_type": "code",
   "execution_count": 19,
   "metadata": {
    "collapsed": false
   },
   "outputs": [
    {
     "name": "stdout",
     "output_type": "stream",
     "text": [
      "0 \t1.57079642679\n",
      "1 \t10000001.5711\n",
      "2 \t9999999.41212\n",
      "3 \t10000001.0473\n",
      "4 \t10000000.3435\n",
      "5 \t10000000.4343\n",
      "3183099.0\n"
     ]
    }
   ],
   "source": [
    "print m_newton(sin,cos,pi/2+0.0000001)/pi"
   ]
  },
  {
   "cell_type": "code",
   "execution_count": 35,
   "metadata": {
    "collapsed": true
   },
   "outputs": [],
   "source": [
    "def derivada(f,x,h=1e-4):\n",
    "    return (f(x+h)-f(x-h))/(2*h)\n",
    "\n",
    "def derivada_2(f,x,h=1e-4):\n",
    "    return (-f(x+2*h)+8*f(x+h)-8*f(x-h)+f(x-2*h))/(12.*h)"
   ]
  },
  {
   "cell_type": "code",
   "execution_count": 41,
   "metadata": {
    "collapsed": false
   },
   "outputs": [
    {
     "name": "stdout",
     "output_type": "stream",
     "text": [
      "2.58799878298\n",
      "2.58799873326\n",
      "2.58799873326\n"
     ]
    }
   ],
   "source": [
    "print derivada(tan,.9)\n",
    "print derivada_2(tan,.9)\n",
    "print (1/cos(.9))**2"
   ]
  },
  {
   "cell_type": "code",
   "execution_count": 24,
   "metadata": {
    "collapsed": true
   },
   "outputs": [],
   "source": [
    "def m_newton_2(funcion,x_0,error=1e-8):\n",
    "    xn=x_0\n",
    "    yn=funcion(xn)\n",
    "    n=0\n",
    "    while abs(yn)>=error:\n",
    "        print n,'\\t',xn\n",
    "        xn = xn - (funcion(xn))/(derivada(funcion,xn))\n",
    "        yn=funcion(xn)\n",
    "        n += 1\n",
    "    return xn\n",
    "        "
   ]
  },
  {
   "cell_type": "code",
   "execution_count": 27,
   "metadata": {
    "collapsed": false
   },
   "outputs": [
    {
     "name": "stdout",
     "output_type": "stream",
     "text": [
      "0 \t1.67079632679\n",
      "1 \t11.6374407667\n",
      "2 \t12.9753246623\n",
      "3 \t12.5419364293\n",
      "4 \t12.5663754782\n",
      "12.5663706144\n",
      "0 \t1.67079632679\n",
      "1 \t11.6374407501\n",
      "2 \t12.9753246898\n",
      "3 \t12.5419364248\n",
      "4 \t12.5663754782\n",
      "12.5663706144\n",
      "12.5663706144\n"
     ]
    }
   ],
   "source": [
    "print m_newton_2(sin,pi/2 + 0.1)\n",
    "print m_newton(sin,cos,pi/2 + 0.1)\n",
    "print 4*pi"
   ]
  }
 ],
 "metadata": {
  "kernelspec": {
   "display_name": "Python [Root]",
   "language": "python",
   "name": "Python [Root]"
  },
  "language_info": {
   "codemirror_mode": {
    "name": "ipython",
    "version": 2
   },
   "file_extension": ".py",
   "mimetype": "text/x-python",
   "name": "python",
   "nbconvert_exporter": "python",
   "pygments_lexer": "ipython2",
   "version": "2.7.12"
  }
 },
 "nbformat": 4,
 "nbformat_minor": 0
}
