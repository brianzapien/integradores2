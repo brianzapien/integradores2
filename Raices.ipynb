{
 "cells": [
  {
   "cell_type": "code",
   "execution_count": 14,
   "metadata": {
    "collapsed": true
   },
   "outputs": [],
   "source": [
    "from pylab import *\n",
    "from scipy.special import *\n",
    "%matplotlib inline"
   ]
  },
  {
   "cell_type": "code",
   "execution_count": 47,
   "metadata": {
    "collapsed": false
   },
   "outputs": [],
   "source": [
    "def raiz_bip(f,x_i,x_d,error=1e-5):\n",
    "    raiz = 0.5*(x_i+x_d)\n",
    "    y_i,y_d = f(x_i),f(x_d)\n",
    "    n = 0\n",
    "    while (abs(raiz -x_d) >= error and abs(y_i - y_d)>=error):\n",
    "        y_m = f(raiz)\n",
    "        if y_m == 0:\n",
    "            print \"le atine :D\"\n",
    "            break\n",
    "        if y_m*y_i < 0:\n",
    "            x_d = raiz\n",
    "        else:\n",
    "            x_i = raiz\n",
    "        raiz = 0.5*(x_i+x_d)\n",
    "        y_i,y_d = f(x_i),f(x_d)\n",
    "        n += 1\n",
    "        print 'paso', n, \"  raiz \",raiz\n",
    "    return raiz"
   ]
  },
  {
   "cell_type": "code",
   "execution_count": 19,
   "metadata": {
    "collapsed": false
   },
   "outputs": [
    {
     "data": {
      "image/png": "[encoded data removed]",
      "text/plain": [
       "<matplotlib.figure.Figure at 0x7efebc27a1d0>"
      ]
     },
     "metadata": {},
     "output_type": "display_data"
    }
   ],
   "source": [
    "x=linspace(0,7)\n",
    "plot(x,sin(x))\n",
    "grid(True)\n",
    "show()"
   ]
  },
  {
   "cell_type": "code",
   "execution_count": 50,
   "metadata": {
    "collapsed": false
   },
   "outputs": [
    {
     "name": "stdout",
     "output_type": "stream",
     "text": [
      "le atine :D\n",
      "0.0\n"
     ]
    }
   ],
   "source": [
    "print raiz_bip(sin,-1,1)\n"
   ]
  },
  {
   "cell_type": "code",
   "execution_count": 35,
   "metadata": {
    "collapsed": true
   },
   "outputs": [],
   "source": [
    "def funcion(x):\n",
    "    return (x-1)**5"
   ]
  },
  {
   "cell_type": "code",
   "execution_count": 36,
   "metadata": {
    "collapsed": false
   },
   "outputs": [
    {
     "data": {
      "image/png": "[encoded data removed]",
      "text/plain": [
       "<matplotlib.figure.Figure at 0x7efebc0fa8d0>"
      ]
     },
     "metadata": {},
     "output_type": "display_data"
    }
   ],
   "source": [
    "x=linspace(0,2)\n",
    "plot(x,funcion(x))\n",
    "show()"
   ]
  },
  {
   "cell_type": "code",
   "execution_count": 39,
   "metadata": {
    "collapsed": false
   },
   "outputs": [
    {
     "name": "stdout",
     "output_type": "stream",
     "text": [
      "paso 1   raiz  0.25\n",
      "paso 2   raiz  0.375\n",
      "paso 3   raiz  0.4375\n",
      "paso 4   raiz  0.46875\n",
      "paso 5   raiz  0.484375\n",
      "paso 6   raiz  0.4921875\n",
      "paso 7   raiz  0.49609375\n",
      "paso 8   raiz  0.498046875\n",
      "paso 9   raiz  0.4990234375\n",
      "paso 10   raiz  0.49951171875\n",
      "paso 11   raiz  0.499755859375\n",
      "paso 12   raiz  0.499877929688\n",
      "paso 13   raiz  0.499938964844\n",
      "paso 14   raiz  0.499969482422\n",
      "paso 15   raiz  0.499984741211\n",
      "paso 16   raiz  0.499992370605\n",
      "paso 17   raiz  0.499996185303\n",
      "paso 18   raiz  0.499998092651\n",
      "paso 19   raiz  0.499999046326\n",
      "paso 20   raiz  0.499999523163\n",
      "paso 21   raiz  0.499999761581\n",
      "paso 22   raiz  0.499999880791\n",
      "paso 23   raiz  0.499999940395\n",
      "paso 24   raiz  0.499999970198\n",
      "paso 25   raiz  0.499999985099\n",
      "paso 26   raiz  0.499999992549\n",
      "paso 27   raiz  0.499999996275\n",
      "paso 28   raiz  0.499999998137\n",
      "paso 29   raiz  0.499999999069\n",
      "paso 30   raiz  0.499999999534\n",
      "paso 31   raiz  0.499999999767\n",
      "paso 32   raiz  0.499999999884\n"
     ]
    },
    {
     "data": {
      "text/plain": [
       "0.4999999998835847"
      ]
     },
     "execution_count": 39,
     "metadata": {},
     "output_type": "execute_result"
    }
   ],
   "source": [
    "raiz_bip(funcion,-.5,.5,1e-10)"
   ]
  }
 ],
 "metadata": {
  "kernelspec": {
   "display_name": "Python [Root]",
   "language": "python",
   "name": "Python [Root]"
  },
  "language_info": {
   "codemirror_mode": {
    "name": "ipython",
    "version": 2
   },
   "file_extension": ".py",
   "mimetype": "text/x-python",
   "name": "python",
   "nbconvert_exporter": "python",
   "pygments_lexer": "ipython2",
   "version": "2.7.12"
  }
 },
 "nbformat": 4,
 "nbformat_minor": 0
}
