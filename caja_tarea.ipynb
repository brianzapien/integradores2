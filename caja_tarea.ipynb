{
 "cells": [
  {
   "cell_type": "code",
   "execution_count": 1,
   "metadata": {
    "collapsed": true
   },
   "outputs": [],
   "source": [
    "from pylab import *\n",
    "%matplotlib inline\n"
   ]
  },
  {
   "cell_type": "code",
   "execution_count": 2,
   "metadata": {
    "collapsed": true
   },
   "outputs": [],
   "source": [
    "def RK4(ec,p_ini,x,args=[],h=0.01): #integrador Runge-Kutta de  4 orden el cual integra ecuaciones diferenciales\n",
    "    if (x[1]-x[0]) < 5.*h:\n",
    "        h = (x[1]-x[0])/10\n",
    "    tiempos = arange(x[0],x[1]+h,h)\n",
    "    sol = zeros((len(tiempos),len(p_ini)))\n",
    "    sol[0,:] = p_ini\n",
    "    if args==0:\n",
    "        for i in xrange(len(tiempos)-1):\n",
    "            k1 = ec(sol[i,:],tiempos[i])\n",
    "            k2 = ec(sol[i,:]+0.5*h*k1,tiempos[i]+0.5*h)\n",
    "            k3 = ec(sol[i,:]+0.5*h*k2,tiempos[i]+0.5*h)\n",
    "            k4 = ec(sol[i,:]+h*k3,tiempos[i]+h)\n",
    "            sol[i+1,:]=sol[i,:]+(h/6.)*(k1+2*k2+2*k3+k4)\n",
    "    else:\n",
    "        for i in xrange(len(tiempos)-1):\n",
    "            k1 = ec(sol[i,:],tiempos[i],args)\n",
    "            k2 = ec(sol[i,:]+0.5*h*k1,tiempos[i]+0.5*h,args)\n",
    "            k3 = ec(sol[i,:]+0.5*h*k2,tiempos[i]+0.5*h,args)\n",
    "            k4 = ec(sol[i,:]+h*k3,tiempos[i]+h,args)\n",
    "            sol[i+1,:]=sol[i,:]+(h/6.)*(k1+2*k2+2*k3+k4)\n",
    "    return tiempos,sol"
   ]
  },
  {
   "cell_type": "code",
   "execution_count": 9,
   "metadata": {
    "collapsed": true
   },
   "outputs": [],
   "source": [
    "def e_mov(r_v,t,gamma=[0],g=9.8,m=1): #ecuaciones de movimiento\n",
    "    dx = r_v[2] #derivada de x\n",
    "    dy = r_v[3] #derivada de y\n",
    "    dvx = 0-gamma[0]*r_v[2] #derivada de vx utilizo segunda ley de newton\n",
    "    dvy = -g-gamma[0]*r_v[3] #derivada de vy, utilizando segunda ley de Newton\n",
    "    return array([dx,dy,dvx,dvy]) #me regresa array de las derivadas\n",
    "\n",
    "def pared_arriba(r_v_i,mi_dt,alfa=0,gamma=[0]):\n",
    "    dt_bus = mi_dt/2\n",
    "    y_izq=r_v_i\n",
    "    t,sol = RK4(e_mov,r_v_i,[0,dt_bus],gamma)\n",
    "    ymed = sol[-1,:]\n",
    "    while abs(y_izq[1]-3-5*tan(alfa)) > 1e-8:\n",
    "        #print y_izq[1]\n",
    "        if (y_izq[1]-3-5*tan(alfa))*(ymed[1]-3-5*tan(alfa)) < 0:\n",
    "            reinicio = y_izq\n",
    "        else:\n",
    "            reinicio = ymed\n",
    "        dt_bus = dt_bus/2\n",
    "        t,sol=RK4(e_mov,reinicio,[0,dt_bus],gamma)\n",
    "        y_izq = reinicio\n",
    "        ymed = sol[-1,:] #es el ultimo punto que integro\n",
    "    y_izq = array([y_izq[0],y_izq[1],y_izq[2],-y_izq[3]])\n",
    "    return y_izq\n",
    "\n",
    "def pared_abajo_1(r_v_i,mi_dt,alfa=0,gamma=[0]):\n",
    "    dt_bus = mi_dt/2\n",
    "    p_ant=r_v_i\n",
    "    t,sol = RK4(e_mov,r_v_i,[0,dt_bus],gamma)\n",
    "    pmed = sol[-1,:]\n",
    "    vel_y=p_ant[3]\n",
    "    while abs(p_ant[1]-(5-p_ant[0])*tan(alfa)) > 1e-8:\n",
    "        if (p_ant[1]-(5-p_ant[0])*tan(alfa))*(pmed[1]-(5-pmed[0])*tan(alfa)) < 0:\n",
    "            reinicio = p_ant\n",
    "        else:\n",
    "            reinicio = pmed\n",
    "        dt_bus = dt_bus/2\n",
    "        t,sol=RK4(e_mov,reinicio,[0,dt_bus],gamma)\n",
    "        p_ant = reinicio\n",
    "        pmed = sol[-1,:] #es el ultimo punto que integro\n",
    "    if (vel_y/p_ant[2])>tan(alfa):\n",
    "        p_ant = array([p_ant[0],p_ant[1],p_ant[2],-p_ant[3]])\n",
    "    else:\n",
    "        p_ant = array([p_ant[0],p_ant[1],-p_ant[2],-p_ant[3]])\n",
    "    return p_ant\n",
    "            \n",
    "def pared_abajo_2(r_v_i,mi_dt,alfa=0,gamma=[0]):\n",
    "    dt_bus = mi_dt/2\n",
    "    p_ant=r_v_i\n",
    "    t,sol = RK4(e_mov,r_v_i,[0,dt_bus],gamma)\n",
    "    pmed = sol[-1,:]\n",
    "    vel_y=p_ant[3]\n",
    "    while abs(p_ant[1]-(p_ant[0]-5)*tan(alfa)) > 1e-8:\n",
    "        if (p_ant[1]-(p_ant[0]-5)*tan(alfa))*(pmed[1]-(pmed[0]-5)*tan(alfa)) < 0:\n",
    "            reinicio = p_ant\n",
    "        else:\n",
    "            reinicio = pmed\n",
    "        dt_bus = dt_bus/2\n",
    "        t,sol=RK4(e_mov,reinicio,[0,dt_bus],gamma)\n",
    "        p_ant = reinicio\n",
    "        pmed = sol[-1,:] #es el ultimo punto que integro\n",
    "    if (vel_y/p_ant[2])>tan(alfa):\n",
    "        p_ant = array([p_ant[0],p_ant[1],p_ant[2],-p_ant[3]])\n",
    "    else:\n",
    "        p_ant = array([p_ant[0],p_ant[1],-p_ant[2],-p_ant[3]])\n",
    "    return p_ant\n",
    "\n",
    "def pared_izq(r_v_i,mi_dt,alfa=0,gamma=[0]):\n",
    "    dt_bus = mi_dt/2\n",
    "    p_ant=r_v_i\n",
    "    t,sol = RK4(e_mov,r_v_i,[0,dt_bus],gamma)\n",
    "    pmed = sol[-1,:]\n",
    "    while abs(p_ant[0]) > 1e-8:\n",
    "        if (p_ant[0]*pmed[0]) < 0:\n",
    "            reinicio = p_ant\n",
    "        else:\n",
    "            reinicio = pmed\n",
    "        dt_bus = dt_bus/2\n",
    "        t,sol=RK4(e_mov,reinicio,[0,dt_bus],gamma)\n",
    "        p_ant = reinicio\n",
    "        pmed = sol[-1,:] #es el ultimo punto que integro\n",
    "    p_ant = array([p_ant[0],p_ant[1],-p_ant[2],p_ant[3]])\n",
    "    return p_ant\n",
    "\n",
    "def pared_der(r_v_i,mi_dt,alfa=0,gamma=[0]):\n",
    "    dt_bus = mi_dt/2\n",
    "    p_ant=r_v_i\n",
    "    t,sol = RK4(e_mov,r_v_i,[0,dt_bus],gamma)\n",
    "    pmed = sol[-1,:]\n",
    "    while abs(p_ant[0]-10) > 1e-8:\n",
    "        if (p_ant[0]-10)*(pmed[0]-10) < 0:\n",
    "            reinicio = p_ant\n",
    "        else:\n",
    "            reinicio = pmed\n",
    "        dt_bus = dt_bus/2\n",
    "        t,sol=RK4(e_mov,reinicio,[0,dt_bus],gamma)\n",
    "        p_ant = reinicio\n",
    "        pmed = sol[-1,:] #es el ultimo punto que integro\n",
    "    p_ant = array([p_ant[0],p_ant[1],-p_ant[2],p_ant[3]])\n",
    "    return p_ant"
   ]
  },
  {
   "cell_type": "code",
   "execution_count": 16,
   "metadata": {
    "collapsed": true
   },
   "outputs": [],
   "source": [
    "#trayectoria=zeros((5000,4)) #trayectoria es un array de zeros cuya primer entrada es la cond inicial\n",
    "def caja(alfa,dt,n,gamma=[0],i=0):\n",
    "    trayectoria = [array([5./3,10*tan(alfa)/3.,10*cos(n*alfa),10*sin(n*alfa)])]\n",
    "    while i<= 100: #para cada paso\n",
    "        t,sol_dt=RK4(e_mov,trayectoria[-1],[0,dt],gamma) #realiza una integracion con estos parametros\n",
    "        if (sol_dt[-1,:][1]-(5-sol_dt[-1,:][0])*tan(alfa) < 0) and sol_dt[-1,:][0]<5 : #si hay un cambio de signo en la integracion \n",
    "            punto=pared_abajo_1(trayectoria[-1],dt,alfa,gamma) #reboto y aplica la funcion rebote\n",
    "            trayectoria.append(punto) #la trayectoria es el nuevo punto que da rebote\n",
    "            i+=1\n",
    "        elif (sol_dt[-1,:][1]+(5-sol_dt[-1,:][0])*tan(alfa) < 0) and sol_dt[-1,:][0]>5:\n",
    "            punto=pared_abajo_2(trayectoria[-1],dt,alfa,gamma) #reboto y aplica la funcion rebote\n",
    "            trayectoria.append(punto) #la trayectoria es el nuevo punto que da rebote\n",
    "            i+=1\n",
    "        elif (sol_dt[-1,:][1]-3-5*tan(alfa))>0: #si no es asi\n",
    "            punto=pared_arriba(trayectoria[-1],dt,alfa,gamma) #reboto y aplica la funcion rebote\n",
    "            trayectoria.append(punto) #la trayectoria es el nuevo punto que da rebote\n",
    "            i+=1\n",
    "        elif sol_dt[-1,:][0]<0: #si no es asi\n",
    "            punto=pared_izq(trayectoria[-1],dt,alfa,gamma) #reboto y aplica la funcion rebote\n",
    "            trayectoria.append(punto) #la trayectoria es el nuevo punto que da rebote\n",
    "            i+=1\n",
    "        elif (sol_dt[-1,:][0]-10)>0: #si no es asi\n",
    "            punto=pared_der(trayectoria[-1],dt,alfa,gamma) #reboto y aplica la funcion rebote\n",
    "            trayectoria.append(punto) #la trayectoria es el nuevo punto que da rebote\n",
    "            i+=1\n",
    "        else: #si no es asi\n",
    "            trayectoria.append(sol_dt[-1,:]) #la trayectoria es el ultimo punto de la integracion\n",
    "    x_y=zeros((len(trayectoria),4))\n",
    "    for j in range(len(trayectoria)):\n",
    "        x_y[j]=trayectoria[j]\n",
    "    return x_y"
   ]
  },
  {
   "cell_type": "code",
   "execution_count": 17,
   "metadata": {
    "collapsed": false
   },
   "outputs": [
    {
     "data": {
      "image/png": "[encoded data removed]",
      "text/plain": [
       "<matplotlib.figure.Figure at 0x7fb3015e77d0>"
      ]
     },
     "metadata": {},
     "output_type": "display_data"
    },
    {
     "ename": "ZeroDivisionError",
     "evalue": "float division by zero",
     "output_type": "error",
     "traceback": [
      "\u001b[1;31m---------------------------------------------------------------------------\u001b[0m",
      "\u001b[1;31mZeroDivisionError\u001b[0m                         Traceback (most recent call last)",
      "\u001b[1;32m<ipython-input-17-39d0da8292fe>\u001b[0m in \u001b[0;36m<module>\u001b[1;34m()\u001b[0m\n\u001b[0;32m      8\u001b[0m \u001b[0mshow\u001b[0m\u001b[1;33m(\u001b[0m\u001b[1;33m)\u001b[0m\u001b[1;33m\u001b[0m\u001b[0m\n\u001b[0;32m      9\u001b[0m \u001b[0malfa\u001b[0m\u001b[1;33m=\u001b[0m\u001b[0mpi\u001b[0m\u001b[1;33m/\u001b[0m\u001b[1;36m6\u001b[0m\u001b[1;33m\u001b[0m\u001b[0m\n\u001b[1;32m---> 10\u001b[1;33m \u001b[0mx_yf\u001b[0m\u001b[1;33m=\u001b[0m\u001b[0mcaja\u001b[0m\u001b[1;33m(\u001b[0m\u001b[0mpi\u001b[0m\u001b[1;33m/\u001b[0m\u001b[1;36m6\u001b[0m\u001b[1;33m,\u001b[0m\u001b[1;36m0.01\u001b[0m\u001b[1;33m,\u001b[0m\u001b[1;36m2\u001b[0m\u001b[1;33m,\u001b[0m\u001b[1;33m[\u001b[0m\u001b[1;36m0.2\u001b[0m\u001b[1;33m]\u001b[0m\u001b[1;33m)\u001b[0m\u001b[1;33m\u001b[0m\u001b[0m\n\u001b[0m\u001b[0;32m     11\u001b[0m \u001b[0mplot\u001b[0m\u001b[1;33m(\u001b[0m\u001b[0mx_yf\u001b[0m\u001b[1;33m[\u001b[0m\u001b[1;33m:\u001b[0m\u001b[1;33m,\u001b[0m\u001b[1;36m0\u001b[0m\u001b[1;33m]\u001b[0m\u001b[1;33m,\u001b[0m\u001b[0mx_yf\u001b[0m\u001b[1;33m[\u001b[0m\u001b[1;33m:\u001b[0m\u001b[1;33m,\u001b[0m\u001b[1;36m1\u001b[0m\u001b[1;33m]\u001b[0m\u001b[1;33m)\u001b[0m\u001b[1;33m\u001b[0m\u001b[0m\n\u001b[0;32m     12\u001b[0m \u001b[0mplot\u001b[0m\u001b[1;33m(\u001b[0m\u001b[0mx_yf\u001b[0m\u001b[1;33m[\u001b[0m\u001b[1;36m0\u001b[0m\u001b[1;33m,\u001b[0m\u001b[1;36m0\u001b[0m\u001b[1;33m]\u001b[0m\u001b[1;33m,\u001b[0m\u001b[0mx_yf\u001b[0m\u001b[1;33m[\u001b[0m\u001b[1;36m0\u001b[0m\u001b[1;33m,\u001b[0m\u001b[1;36m1\u001b[0m\u001b[1;33m]\u001b[0m\u001b[1;33m,\u001b[0m\u001b[1;34m'ro'\u001b[0m\u001b[1;33m)\u001b[0m\u001b[1;33m\u001b[0m\u001b[0m\n",
      "\u001b[1;32m<ipython-input-16-bf510fdfadc3>\u001b[0m in \u001b[0;36mcaja\u001b[1;34m(alfa, dt, n, gamma, i)\u001b[0m\n\u001b[0;32m     17\u001b[0m             \u001b[0mi\u001b[0m\u001b[1;33m+=\u001b[0m\u001b[1;36m1\u001b[0m\u001b[1;33m\u001b[0m\u001b[0m\n\u001b[0;32m     18\u001b[0m         \u001b[1;32melif\u001b[0m \u001b[0msol_dt\u001b[0m\u001b[1;33m[\u001b[0m\u001b[1;33m-\u001b[0m\u001b[1;36m1\u001b[0m\u001b[1;33m,\u001b[0m\u001b[1;33m:\u001b[0m\u001b[1;33m]\u001b[0m\u001b[1;33m[\u001b[0m\u001b[1;36m0\u001b[0m\u001b[1;33m]\u001b[0m\u001b[1;33m<\u001b[0m\u001b[1;36m0\u001b[0m\u001b[1;33m:\u001b[0m \u001b[1;31m#si no es asi\u001b[0m\u001b[1;33m\u001b[0m\u001b[0m\n\u001b[1;32m---> 19\u001b[1;33m             \u001b[0mpunto\u001b[0m\u001b[1;33m=\u001b[0m\u001b[0mpared_izq\u001b[0m\u001b[1;33m(\u001b[0m\u001b[0mtrayectoria\u001b[0m\u001b[1;33m[\u001b[0m\u001b[1;33m-\u001b[0m\u001b[1;36m1\u001b[0m\u001b[1;33m]\u001b[0m\u001b[1;33m,\u001b[0m\u001b[0mdt\u001b[0m\u001b[1;33m,\u001b[0m\u001b[0malfa\u001b[0m\u001b[1;33m,\u001b[0m\u001b[0mgamma\u001b[0m\u001b[1;33m)\u001b[0m \u001b[1;31m#reboto y aplica la funcion rebote\u001b[0m\u001b[1;33m\u001b[0m\u001b[0m\n\u001b[0m\u001b[0;32m     20\u001b[0m             \u001b[0mtrayectoria\u001b[0m\u001b[1;33m.\u001b[0m\u001b[0mappend\u001b[0m\u001b[1;33m(\u001b[0m\u001b[0mpunto\u001b[0m\u001b[1;33m)\u001b[0m \u001b[1;31m#la trayectoria es el nuevo punto que da rebote\u001b[0m\u001b[1;33m\u001b[0m\u001b[0m\n\u001b[0;32m     21\u001b[0m             \u001b[0mi\u001b[0m\u001b[1;33m+=\u001b[0m\u001b[1;36m1\u001b[0m\u001b[1;33m\u001b[0m\u001b[0m\n",
      "\u001b[1;32m<ipython-input-9-68e8b5684870>\u001b[0m in \u001b[0;36mpared_izq\u001b[1;34m(r_v_i, mi_dt, alfa, gamma)\u001b[0m\n\u001b[0;32m     77\u001b[0m             \u001b[0mreinicio\u001b[0m \u001b[1;33m=\u001b[0m \u001b[0mpmed\u001b[0m\u001b[1;33m\u001b[0m\u001b[0m\n\u001b[0;32m     78\u001b[0m         \u001b[0mdt_bus\u001b[0m \u001b[1;33m=\u001b[0m \u001b[0mdt_bus\u001b[0m\u001b[1;33m/\u001b[0m\u001b[1;36m2\u001b[0m\u001b[1;33m\u001b[0m\u001b[0m\n\u001b[1;32m---> 79\u001b[1;33m         \u001b[0mt\u001b[0m\u001b[1;33m,\u001b[0m\u001b[0msol\u001b[0m\u001b[1;33m=\u001b[0m\u001b[0mRK4\u001b[0m\u001b[1;33m(\u001b[0m\u001b[0me_mov\u001b[0m\u001b[1;33m,\u001b[0m\u001b[0mreinicio\u001b[0m\u001b[1;33m,\u001b[0m\u001b[1;33m[\u001b[0m\u001b[1;36m0\u001b[0m\u001b[1;33m,\u001b[0m\u001b[0mdt_bus\u001b[0m\u001b[1;33m]\u001b[0m\u001b[1;33m,\u001b[0m\u001b[0mgamma\u001b[0m\u001b[1;33m)\u001b[0m\u001b[1;33m\u001b[0m\u001b[0m\n\u001b[0m\u001b[0;32m     80\u001b[0m         \u001b[0mp_ant\u001b[0m \u001b[1;33m=\u001b[0m \u001b[0mreinicio\u001b[0m\u001b[1;33m\u001b[0m\u001b[0m\n\u001b[0;32m     81\u001b[0m         \u001b[0mpmed\u001b[0m \u001b[1;33m=\u001b[0m \u001b[0msol\u001b[0m\u001b[1;33m[\u001b[0m\u001b[1;33m-\u001b[0m\u001b[1;36m1\u001b[0m\u001b[1;33m,\u001b[0m\u001b[1;33m:\u001b[0m\u001b[1;33m]\u001b[0m \u001b[1;31m#es el ultimo punto que integro\u001b[0m\u001b[1;33m\u001b[0m\u001b[0m\n",
      "\u001b[1;32m<ipython-input-2-13e13ce1d008>\u001b[0m in \u001b[0;36mRK4\u001b[1;34m(ec, p_ini, x, args, h)\u001b[0m\n\u001b[0;32m      2\u001b[0m     \u001b[1;32mif\u001b[0m \u001b[1;33m(\u001b[0m\u001b[0mx\u001b[0m\u001b[1;33m[\u001b[0m\u001b[1;36m1\u001b[0m\u001b[1;33m]\u001b[0m\u001b[1;33m-\u001b[0m\u001b[0mx\u001b[0m\u001b[1;33m[\u001b[0m\u001b[1;36m0\u001b[0m\u001b[1;33m]\u001b[0m\u001b[1;33m)\u001b[0m \u001b[1;33m<\u001b[0m \u001b[1;36m5.\u001b[0m\u001b[1;33m*\u001b[0m\u001b[0mh\u001b[0m\u001b[1;33m:\u001b[0m\u001b[1;33m\u001b[0m\u001b[0m\n\u001b[0;32m      3\u001b[0m         \u001b[0mh\u001b[0m \u001b[1;33m=\u001b[0m \u001b[1;33m(\u001b[0m\u001b[0mx\u001b[0m\u001b[1;33m[\u001b[0m\u001b[1;36m1\u001b[0m\u001b[1;33m]\u001b[0m\u001b[1;33m-\u001b[0m\u001b[0mx\u001b[0m\u001b[1;33m[\u001b[0m\u001b[1;36m0\u001b[0m\u001b[1;33m]\u001b[0m\u001b[1;33m)\u001b[0m\u001b[1;33m/\u001b[0m\u001b[1;36m10\u001b[0m\u001b[1;33m\u001b[0m\u001b[0m\n\u001b[1;32m----> 4\u001b[1;33m     \u001b[0mtiempos\u001b[0m \u001b[1;33m=\u001b[0m \u001b[0marange\u001b[0m\u001b[1;33m(\u001b[0m\u001b[0mx\u001b[0m\u001b[1;33m[\u001b[0m\u001b[1;36m0\u001b[0m\u001b[1;33m]\u001b[0m\u001b[1;33m,\u001b[0m\u001b[0mx\u001b[0m\u001b[1;33m[\u001b[0m\u001b[1;36m1\u001b[0m\u001b[1;33m]\u001b[0m\u001b[1;33m+\u001b[0m\u001b[0mh\u001b[0m\u001b[1;33m,\u001b[0m\u001b[0mh\u001b[0m\u001b[1;33m)\u001b[0m\u001b[1;33m\u001b[0m\u001b[0m\n\u001b[0m\u001b[0;32m      5\u001b[0m     \u001b[0msol\u001b[0m \u001b[1;33m=\u001b[0m \u001b[0mzeros\u001b[0m\u001b[1;33m(\u001b[0m\u001b[1;33m(\u001b[0m\u001b[0mlen\u001b[0m\u001b[1;33m(\u001b[0m\u001b[0mtiempos\u001b[0m\u001b[1;33m)\u001b[0m\u001b[1;33m,\u001b[0m\u001b[0mlen\u001b[0m\u001b[1;33m(\u001b[0m\u001b[0mp_ini\u001b[0m\u001b[1;33m)\u001b[0m\u001b[1;33m)\u001b[0m\u001b[1;33m)\u001b[0m\u001b[1;33m\u001b[0m\u001b[0m\n\u001b[0;32m      6\u001b[0m     \u001b[0msol\u001b[0m\u001b[1;33m[\u001b[0m\u001b[1;36m0\u001b[0m\u001b[1;33m,\u001b[0m\u001b[1;33m:\u001b[0m\u001b[1;33m]\u001b[0m \u001b[1;33m=\u001b[0m \u001b[0mp_ini\u001b[0m\u001b[1;33m\u001b[0m\u001b[0m\n",
      "\u001b[1;31mZeroDivisionError\u001b[0m: float division by zero"
     ]
    }
   ],
   "source": [
    "alfa=pi/6\n",
    "x_y=caja(pi/6,0.01,2,[0])\n",
    "plot(x_y[:,0],x_y[:,1])\n",
    "plot(x_y[0,0],x_y[0,1],'ro')\n",
    "plot([0,5,10,10,0,0],[5*tan(alfa),0,5*tan(alfa),3+5*tan(alfa),3+5*tan(alfa),5*tan(alfa)],'k',lw=2)\n",
    "xlim([-.2,10.2])\n",
    "ylim([-0.2,6.2])\n",
    "show()\n",
    "alfa=pi/6\n",
    "x_yf=caja(pi/6,0.01,2,[0.2])\n",
    "plot(x_yf[:,0],x_yf[:,1])\n",
    "plot(x_yf[0,0],x_yf[0,1],'ro')\n",
    "plot([0,5,10,10,0,0],[5*tan(alfa),0,5*tan(alfa),3+5*tan(alfa),3+5*tan(alfa),5*tan(alfa)],'k',lw=2)\n",
    "xlim([-.2,10.2])\n",
    "ylim([-.2,5*tan(alfa)+3.2])\n",
    "show()\n",
    "\n",
    "print x_y[-20:-1][:]"
   ]
  }
 ],
 "metadata": {
  "kernelspec": {
   "display_name": "Python [Root]",
   "language": "python",
   "name": "Python [Root]"
  },
  "language_info": {
   "codemirror_mode": {
    "name": "ipython",
    "version": 2
   },
   "file_extension": ".py",
   "mimetype": "text/x-python",
   "name": "python",
   "nbconvert_exporter": "python",
   "pygments_lexer": "ipython2",
   "version": "2.7.12"
  }
 },
 "nbformat": 4,
 "nbformat_minor": 0
}
