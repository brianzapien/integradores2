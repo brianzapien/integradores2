{
 "cells": [
  {
   "cell_type": "code",
   "execution_count": 21,
   "metadata": {
    "collapsed": true
   },
   "outputs": [],
   "source": [
    "from pylab import*\n",
    "%matplotlib inline"
   ]
  },
  {
   "cell_type": "code",
   "execution_count": 22,
   "metadata": {
    "collapsed": true
   },
   "outputs": [],
   "source": [
    "def RK4(ec, p_ini, x, args=0, h=0.01):\n",
    "    if (x[1]-x[0]) <= 5*h:\n",
    "        h = (x[1]-x[0])/10\n",
    "    tiempos=arange(x[0],x[1]+h,h)\n",
    "    sol = zeros((len(tiempos),len(p_ini)))\n",
    "    sol[0,:]=p_ini\n",
    "    if args==0:\n",
    "        for i in xrange(len(tiempos)-1):\n",
    "            k_1=ec(sol[i,:],tiempos[i])\n",
    "            k_2=ec(sol[i,:]+0.5*h*k_1,tiempos[i]+0.5*h)\n",
    "            k_3=ec(sol[i,:]+0.5*h*k_2,tiempos[i]+0.5*h)\n",
    "            k_4=ec(sol[i,:]+h*k_3,tiempos[i]+h)\n",
    "            sol[i+1,:]= sol[i,:]+ (h/6.)*(k_1+2*k_2+2*k_3+k_4)\n",
    "    else:\n",
    "        for i in xrange(len(tiempos)-1):\n",
    "            k_1=ec(sol[i,:],tiempos[i],args)\n",
    "            k_2=ec(sol[i,:]+0.5*h*k_1,tiempos[i]+0.5*h,args)\n",
    "            k_3=ec(sol[i,:]+0.5*h*k_2,tiempos[i]+0.5*h,args)\n",
    "            k_4=ec(sol[i,:]+h*k_3,tiempos[i]+h,args)\n",
    "            sol[i+1,:]= sol[i,:]+ (h/6.)*(k_1+2*k_2+2*k_3+k_4)\n",
    "    return tiempos,sol"
   ]
  },
  {
   "cell_type": "code",
   "execution_count": 71,
   "metadata": {
    "collapsed": true
   },
   "outputs": [],
   "source": [
    "def e_mov(r_v,t,fric=0,g= 9.8,m=1,alfa=pi/4):\n",
    "    u =sqrt(r_v[2]**2+r_v[3]**2)\n",
    "    dx = r_v[2]\n",
    "    dy = r_v[3]\n",
    "    if fric==0:\n",
    "        dvx,dvy = (g/m)*sin(alfa),-(g/m)*cos(alfa)\n",
    "        #print \"No use un modelo de friccion\"\n",
    "    else:\n",
    "        dvx = (g/m)*sin(alfa) - fric([r_v[2],r_v[3]])[0]\n",
    "        dvy = -(g/m)*cos(alfa) - fric([r_v[2],r_v[3]])[1]\n",
    "        #print \"Use un modelo de friccion\"\n",
    "    return array([dx,dy,dvx,dvy])"
   ]
  },
  {
   "cell_type": "code",
   "execution_count": 72,
   "metadata": {
    "collapsed": true
   },
   "outputs": [],
   "source": [
    "def fric_id(v):\n",
    "    return array([0,0])\n",
    "\n",
    "def fric_v(v,gamma=0.1):\n",
    "    f_x = gamma*v[0]\n",
    "    f_y = gamma*v[1]\n",
    "    return array([f_x,f_y])\n",
    "\n",
    "def fric_v2(v,gamma=0.1):\n",
    "    norm_v = sqrt(v[0]**2 + v[1]**2)\n",
    "    f_x = gamma*norm_v*v[0]\n",
    "    f_y = gamma*norm_v*v[1]\n",
    "    return array([f_x,f_y])"
   ]
  },
  {
   "cell_type": "code",
   "execution_count": 73,
   "metadata": {
    "collapsed": true
   },
   "outputs": [],
   "source": [
    "def rebote(r_v_i,mi_dt):\n",
    "    dt_busqueda = mi_dt/2\n",
    "    y_izq=r_v_i\n",
    "    t,sol = RK4(e_mov,r_v_i,[0,dt_busqueda],fric_v)\n",
    "    ymed = sol[-1,:]\n",
    "    while abs(y_izq[1]) > 1e-5:\n",
    "        if y_izq[1]*ymed[1] < 0:\n",
    "            reinicio = y_izq\n",
    "        else:\n",
    "            reinicio = ymed\n",
    "        dt_busqueda = dt_busqueda/2\n",
    "        t,sol = RK4(e_mov,reinicio,[0,dt_busqueda],fric_v)\n",
    "        y_izq = reinicio\n",
    "        ymed = sol[-1,:]\n",
    "    y_izq = array([y_izq[0],y_izq[1],y_izq[2],-y_izq[3]])\n",
    "    return y_izq"
   ]
  },
  {
   "cell_type": "code",
   "execution_count": 124,
   "metadata": {
    "collapsed": false
   },
   "outputs": [
    {
     "data": {
      "text/plain": [
       "[<matplotlib.lines.Line2D at 0x7f5e6c09cdd0>]"
      ]
     },
     "execution_count": 124,
     "metadata": {},
     "output_type": "execute_result"
    },
    {
     "data": {
      "image/png": "[encoded data removed]",
      "text/plain": [
       "<matplotlib.figure.Figure at 0x7f5e6b89ec90>"
      ]
     },
     "metadata": {},
     "output_type": "display_data"
    }
   ],
   "source": [
    "p=[0,0,-2,5]\n",
    "t,sol_id=RK4(e_mov,p,[0,1.5])\n",
    "t,sol_fv=RK4(e_mov,p,[0,1.5],fric_v)\n",
    "t,sol_fv2=RK4(e_mov,p,[0,1.5],fric_v2)\n",
    "plot(sol_id[:,0],sol_id[:,1])\n",
    "plot(sol_fv[:,0],sol_fv[:,1])\n",
    "plot(sol_fv2[:,0],sol_fv2[:,1])\n",
    "plot(sol_id[0,0],sol_id[0,1],'ko')"
   ]
  },
  {
   "cell_type": "code",
   "execution_count": 132,
   "metadata": {
    "collapsed": false
   },
   "outputs": [
    {
     "data": {
      "image/png": "[encoded data removed]",
      "text/plain": [
       "<matplotlib.figure.Figure at 0x7f5e6b31e710>"
      ]
     },
     "metadata": {},
     "output_type": "display_data"
    }
   ],
   "source": [
    "inicio=[0,0,-15,6]\n",
    "N=40\n",
    "trayectoria=zeros((N,len(inicio)))\n",
    "mi_dt=0.1\n",
    "trayectoria[0,:] = array(inicio)\n",
    "for i in range(N-1):\n",
    "    t,sol_dt=RK4(e_mov,trayectoria[i,:],[0,mi_dt],fric_v2)\n",
    "    if sol_dt[-1,:][1] < 0:\n",
    "        punto=rebote(trayectoria[i,:],mi_dt)\n",
    "        trayectoria[i+1,:]=punto\n",
    "    else:\n",
    "        trayectoria[i+1] = sol_dt[-1,:]\n",
    "x=trayectoria[:,0]*cos(pi/4)+trayectoria[:,1]*sin(pi/4)\n",
    "y=-trayectoria[:,0]*sin(pi/4)+trayectoria[:,1]*cos(pi/4)\n",
    "plot(trayectoria[:,0],trayectoria[:,1],'-')\n",
    "plot([trayectoria[0,0],trayectoria[-1,0]],[trayectoria[0,1],trayectoria[-1,1]],'ko')\n",
    "#plot([x[0],x[-1]],[y[0],y[-1]],'ko')\n",
    "#plot(linspace(-10,10),-linspace(-10,10))\n",
    "show()"
   ]
  },
  {
   "cell_type": "code",
   "execution_count": 133,
   "metadata": {
    "collapsed": false
   },
   "outputs": [
    {
     "data": {
      "text/plain": [
       "[<matplotlib.lines.Line2D at 0x7f5e6b3cf110>]"
      ]
     },
     "execution_count": 133,
     "metadata": {},
     "output_type": "execute_result"
    },
    {
     "data": {
      "image/png": "[encoded data removed]",
      "text/plain": [
       "<matplotlib.figure.Figure at 0x7f5e6b362d50>"
      ]
     },
     "metadata": {},
     "output_type": "display_data"
    }
   ],
   "source": [
    "plot(x,y)\n",
    "plot([x[0],x[-1]],[y[0],y[-1]],'o')\n",
    "plot([0,20],[0,-20])"
   ]
  },
  {
   "cell_type": "code",
   "execution_count": 28,
   "metadata": {
    "collapsed": false
   },
   "outputs": [
    {
     "name": "stdout",
     "output_type": "stream",
     "text": [
      "[ 1.          1.         -6.92964646  6.92964646]\n",
      "[ 1.          1.         -6.92964646  6.92964646]\n",
      "[ 1.          1.         -7.02964646  6.82964646]\n",
      "[ 1.          1.         -7.07106781  6.7882251 ]\n"
     ]
    }
   ],
   "source": [
    "print e_mov([1,1,1,1],1)\n",
    "print e_mov([1,1,1,1],1,fric_id)\n",
    "print e_mov([1,1,1,1],1,fric_v)\n",
    "print e_mov([1,1,1,1],1,fric_v2)"
   ]
  },
  {
   "cell_type": "code",
   "execution_count": 29,
   "metadata": {
    "collapsed": false
   },
   "outputs": [
    {
     "name": "stdout",
     "output_type": "stream",
     "text": [
      "4.98024977445\n",
      "6.44982292672\n"
     ]
    }
   ],
   "source": [
    "print sol_fv2[80,:][1]\n",
    "print sol_fv2[-1,:][1]"
   ]
  }
 ],
 "metadata": {
  "kernelspec": {
   "display_name": "Python [Root]",
   "language": "python",
   "name": "Python [Root]"
  },
  "language_info": {
   "codemirror_mode": {
    "name": "ipython",
    "version": 2
   },
   "file_extension": ".py",
   "mimetype": "text/x-python",
   "name": "python",
   "nbconvert_exporter": "python",
   "pygments_lexer": "ipython2",
   "version": "2.7.12"
  }
 },
 "nbformat": 4,
 "nbformat_minor": 0
}
