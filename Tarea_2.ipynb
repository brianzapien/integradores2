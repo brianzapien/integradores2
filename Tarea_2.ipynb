{
 "cells": [
  {
   "cell_type": "code",
   "execution_count": 1,
   "metadata": {
    "collapsed": true
   },
   "outputs": [],
   "source": [
    "from pylab import *\n",
    "%matplotlib inline"
   ]
  },
  {
   "cell_type": "code",
   "execution_count": 2,
   "metadata": {
    "collapsed": true
   },
   "outputs": [],
   "source": [
    "def rk4(ec,p_ini,x,args=0,h=0.01):\n",
    "    if (x[1]-x[0]) <= 5.*h:\n",
    "        h = (x[1]-x[0])/10\n",
    "    tiempos = arange(x[0],x[1]+h,h)\n",
    "    sol = zeros((len(tiempos),len(p_ini)))\n",
    "    sol[0,:] = p_ini\n",
    "    if args==0:\n",
    "        for i in xrange(len(tiempos)-1):\n",
    "            k1 = ec(sol[i,:],tiempos[i])\n",
    "            k2 = ec(sol[i,:]+0.5*h*k1,tiempos[i]+0.5*h)\n",
    "            k3 = ec(sol[i,:]+0.5*h*k2,tiempos[i]+0.5*h)\n",
    "            k4 = ec(sol[i,:]+h*k3,tiempos[i]+h)\n",
    "            sol[i+1,:]=sol[i,:]+(h/6.)*(k1+2*k2+2*k3+k4)\n",
    "    else:\n",
    "        for i in xrange(len(tiempos)-1):\n",
    "            k1 = ec(sol[i,:],tiempos[i],args)\n",
    "            k2 = ec(sol[i,:]+0.5*h*k1,tiempos[i]+0.5*h,args)\n",
    "            k3 = ec(sol[i,:]+0.5*h*k2,tiempos[i]+0.5*h,args)\n",
    "            k4 = ec(sol[i,:]+h*k3,tiempos[i]+h,args)\n",
    "            sol[i+1,:]=sol[i,:]+(h/6.)*(k1+2*k2+2*k3+k4)\n",
    "    return tiempos,sol\n",
    "\n",
    "def derivada(f,x,h=1e-4):\n",
    "    return (-f(x+2*h)+8*f(x+h)-8*f(x-h)+f(x-2*h))/(12.*h)\n",
    "def m_newton(funcion,x_0,error=1e-8):\n",
    "    xn=x_0\n",
    "    yn=funcion(xn)\n",
    "    n=0\n",
    "    while abs(yn)>=error:\n",
    "        #print n,'\\t',xn\n",
    "        xn = xn - (funcion(xn))/(derivada(funcion,xn))\n",
    "        yn=funcion(xn)\n",
    "        n += 1\n",
    "    return xn\n",
    "\n",
    "def buscar_raiz(func,x_0,x,dx=0.1,error=1e-8):\n",
    "    raices=[m_newton(func,x_0)]\n",
    "    n=int((x[1]-x[0])/dx)\n",
    "    for i in range(n+1):\n",
    "        x_0 += dx\n",
    "        raiz=m_newton(func,x_0)\n",
    "        if (x[0]-error<=raiz<=x[1]+error):\n",
    "            if (abs(raices[-1])-error)<=raiz<=(abs(raices[-1])+error):\n",
    "                continue\n",
    "            else:\n",
    "                raices.append(raiz)\n",
    "    return raices"
   ]
  },
  {
   "cell_type": "code",
   "execution_count": 3,
   "metadata": {
    "collapsed": false
   },
   "outputs": [],
   "source": [
    "def f(x):\n",
    "    return cos(x) + (6/5)*sin(x**2)"
   ]
  },
  {
   "cell_type": "code",
   "execution_count": 4,
   "metadata": {
    "collapsed": false
   },
   "outputs": [
    {
     "name": "stdout",
     "output_type": "stream",
     "text": [
      "Estas son las raices de f(x) en el intervalo [0,2pi] [1.7276420224947926, 2.8534421550945948, 2.7276420224532241, 2.8534421553029286, 2.7276420224947922, 3.8534421551157956, 3.6867361505986005, 3.8534421550945459, 3.6867361504497582, 4.3797484465824104, 4.6867361506006855, 4.9859028618001009, 5.3797484465824104, 5.531443899796634, 5.3797484465793275, 6.0315772088449995, 5.9859028608106035, 6.0315772083193497]\n"
     ]
    }
   ],
   "source": [
    "r1=buscar_raiz(f,1.4,[0,2*pi])\n",
    "print  r\"Estas son las raices de f(x) en el intervalo [0,2pi]\", r1"
   ]
  },
  {
   "cell_type": "code",
   "execution_count": 5,
   "metadata": {
    "collapsed": false
   },
   "outputs": [
    {
     "data": {
      "image/png": "[encoded data removed]",
      "text/plain": [
       "<matplotlib.figure.Figure at 0x9e1c748>"
      ]
     },
     "metadata": {},
     "output_type": "display_data"
    }
   ],
   "source": [
    "x=linspace(0,2*pi,300)\n",
    "t=zeros(len(r1))\n",
    "plot(x,cos(x)+(6/5)*sin(x**2))\n",
    "plot([0,2*pi],[0,0])\n",
    "plot(r1,t,'o',lw=2)\n",
    "grid(True)\n",
    "show()\n"
   ]
  },
  {
   "cell_type": "code",
   "execution_count": 6,
   "metadata": {
    "collapsed": false
   },
   "outputs": [],
   "source": [
    "def derivada_2D(f,xi,y,h=1e-4):\n",
    "    return (-f(xi,y+2*h)+8*f(xi,y+h)-8*f(xi,y-h)+f(xi,y-2*h))/(12.*h)\n",
    "\n",
    "def m_newton_2D(funcion,xi,y_0,error=1e-8):\n",
    "    yn=y_0\n",
    "    zn=funcion(xi,yn)\n",
    "    n=0\n",
    "    while abs(zn)>=error:\n",
    "        #print n,'\\t',xn\n",
    "        yn = yn - (funcion(xi,yn))/(derivada_2D(funcion,xi,yn))\n",
    "        zn=funcion(xi,yn)\n",
    "        n += 1\n",
    "        if n==10:\n",
    "            break\n",
    "    return yn\n",
    "\n",
    "\n",
    "def raices_xi(f,x_y,dy=0.1,error=1e-8):\n",
    "    n=int((x_y[1]-x_y[0])/dy)\n",
    "    x=linspace(x_y[0],x_y[1],100)\n",
    "    y0=x_y[0]+0.15\n",
    "    r_x=[x[1]]\n",
    "    r_y=[m_newton_2D(f,x[0],y0)]\n",
    "    for i in xrange(len(x)):\n",
    "        k=0\n",
    "        for j in xrange(0,n):\n",
    "            y0=x_y[0]+0.15+j*dy\n",
    "            raiz=m_newton_2D(f,x[i],y0)\n",
    "            if (abs(raiz)<=(x_y[1]+error) and abs(f(x[i],raiz))<=error):\n",
    "                if ((r_y[-1]-error)<=raiz<=(r_y[-1]+error)):\n",
    "                    continue\n",
    "                else:\n",
    "                    r_y.append(raiz)\n",
    "                    r_x.append(x[i])          \n",
    "    return r_x,r_y"
   ]
  },
  {
   "cell_type": "code",
   "execution_count": 7,
   "metadata": {
    "collapsed": false
   },
   "outputs": [
    {
     "name": "stderr",
     "output_type": "stream",
     "text": [
      "C:\\Users\\brianhumberto\\Anaconda2\\lib\\site-packages\\ipykernel\\__main__.py:10: RuntimeWarning: divide by zero encountered in double_scalars\n",
      "C:\\Users\\brianhumberto\\Anaconda2\\lib\\site-packages\\ipykernel\\__main__.py:2: RuntimeWarning: invalid value encountered in double_scalars\n",
      "  from ipykernel import kernelapp as app\n"
     ]
    },
    {
     "data": {
      "image/png": "[encoded data removed]",
      "text/plain": [
       "<matplotlib.figure.Figure at 0x9ee6860>"
      ]
     },
     "metadata": {},
     "output_type": "display_data"
    }
   ],
   "source": [
    "def f(x,y):\n",
    "    return 2*exp(-(x+1)**2)*(exp(-(y+2)**2) + exp(-(y-2)**2)) + 6*x*(x**2 + y**2)*exp(-(x**2 + y**2)) - 1 \n",
    "\n",
    "solx,soly=raices_xi(f,[-4,4],0.1)\n",
    "\n",
    "plot(solx,soly,'ro')\n",
    "xlim([-4,4])\n",
    "ylim([-4,4])\n",
    "grid(True)\n"
   ]
  },
  {
   "cell_type": "code",
   "execution_count": 9,
   "metadata": {
    "collapsed": false
   },
   "outputs": [
    {
     "name": "stdout",
     "output_type": "stream",
     "text": [
      "4.5278720548 3.63401089228\n"
     ]
    },
    {
     "data": {
      "image/png": "[encoded data removed]",
      "text/plain": [
       "<matplotlib.figure.Figure at 0xa649198>"
      ]
     },
     "metadata": {},
     "output_type": "display_data"
    }
   ],
   "source": [
    "def e_mov(var,t,fric=0,alfa=pi/4,g=9.8,m=1):\n",
    "    ds = var[1]\n",
    "    if fric == 0:\n",
    "        dvs = -g*sin(alfa)\n",
    "        #print \"No use un modelo de friccion\"\n",
    "    else:\n",
    "        dvs = -g*sin(alfa) - fric(ds)\n",
    "        #print \"Use un modelo de friccion\"\n",
    "    return array([ds,dvs])\n",
    "\n",
    "def fric_v(v,gamma=0.5):\n",
    "    return gamma*v\n",
    "\n",
    "def fric_v2(v,gamma=0.5):\n",
    "    if v>0:\n",
    "        coef=gamma*v*v\n",
    "    if v<0:\n",
    "        coef= -gamma*v*v\n",
    "    return coef\n",
    "v0x,v0y=10*rand(),10*rand()\n",
    "v0=sqrt(v0x**2 + v0y**2)\n",
    "x0,y0=10*rand(),10*rand()\n",
    "r0=sqrt(x0**2 + y0**2)\n",
    "t,sol=rk4(e_mov,[r0,v0],[0,5],fric_v2)\n",
    "x=sol[:,0]*cos(7*pi/4)\n",
    "y=-sol[:,0]*sin(7*pi/4)\n",
    "#plot(x,y)\n",
    "plot(x,y)\n",
    "plot([x[0],x[-1]],[y[0],y[-1]],'ro',markersize=10)\n",
    "plot([10,-10,10,10],[10,-10,-10,10])\n",
    "print x0,y0"
   ]
  }
 ],
 "metadata": {
  "kernelspec": {
   "display_name": "Python 2",
   "language": "python",
   "name": "python2"
  },
  "language_info": {
   "codemirror_mode": {
    "name": "ipython",
    "version": 2
   },
   "file_extension": ".py",
   "mimetype": "text/x-python",
   "name": "python",
   "nbconvert_exporter": "python",
   "pygments_lexer": "ipython2",
   "version": "2.7.11"
  }
 },
 "nbformat": 4,
 "nbformat_minor": 0
}
