{
 "cells": [
  {
   "cell_type": "code",
   "execution_count": 1,
   "metadata": {
    "collapsed": true
   },
   "outputs": [],
   "source": [
    "from pylab import*\n",
    "%matplotlib inline"
   ]
  },
  {
   "cell_type": "code",
   "execution_count": 3,
   "metadata": {
    "collapsed": false
   },
   "outputs": [],
   "source": [
    "def raiz_bip_vec(func,t_i_d,x_i_d, ind,err=1e-8):\n",
    "    t_med= 0.5*(t_i_d[0]+t_i_d[1]) \n",
    "    n=0\n",
    "    while abs(x_i_d[1][ind])>= err:\n",
    "        t,x_m = RK4(func,x_i_d[0],[t_i_d,t_med])\n",
    "        y_m = func(raiz)\n",
    "        if y_m == 0.:\n",
    "            print \"Es la raiz \"\n",
    "            break\n",
    "        if y_m*y_i < 0:\n",
    "            x_d = raiz\n",
    "        else:\n",
    "            x_i = raiz\n",
    "        raiz = 0.5*(x_i+x_d)\n",
    "        y_i,y_d =func(x_i),func(x_d)\n",
    "        n += 1\n",
    "        print n, \"\\t\", raiz\n",
    "    return raiz"
   ]
  }
 ],
 "metadata": {
  "kernelspec": {
   "display_name": "Python [Root]",
   "language": "python",
   "name": "Python [Root]"
  },
  "language_info": {
   "codemirror_mode": {
    "name": "ipython",
    "version": 2
   },
   "file_extension": ".py",
   "mimetype": "text/x-python",
   "name": "python",
   "nbconvert_exporter": "python",
   "pygments_lexer": "ipython2",
   "version": "2.7.12"
  }
 },
 "nbformat": 4,
 "nbformat_minor": 0
}
